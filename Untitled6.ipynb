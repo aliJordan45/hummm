{
  "nbformat": 4,
  "nbformat_minor": 0,
  "metadata": {
    "colab": {
      "provenance": []
    },
    "kernelspec": {
      "name": "python3",
      "display_name": "Python 3"
    },
    "language_info": {
      "name": "python"
    }
  },
  "cells": [
    {
      "cell_type": "code",
      "execution_count": 5,
      "metadata": {
        "colab": {
          "base_uri": "https://localhost:8080/",
          "height": 122
        },
        "id": "jBBu2BkCB88V",
        "outputId": "b51e6e25-2418-47de-8a8a-b39325efdb40"
      },
      "outputs": [
        {
          "output_type": "execute_result",
          "data": {
            "text/plain": [
              "'pesien epuik innesia unanunan epuik innesia n taun tentan aanan paktek npi an pesainan usaa tiak seat enan aat tuan an aa esa pesien epuik innesia enian aaa peanunan ian ekni aus iaakan kepaa teuuna keseateaan akat easakan panasia an unan unan asa aa ekasi aa ian ekni enenaki aana kesepatan an saa ai setiap aa neaa untuk epatisipasi i aa pses puksi an peasaan aan an atau asa aa iki usaa an seat eekti an eisien seina apat enn petuuan ekni an ekeana ekni pasa an aa aa setiap an an eusaa i innesia aus eaa aa situasi pesainan an seat an aa seina tiak eniukan aana peusatan kekuatan ekni paa peaku usaa tetentu enan tiak teepas ai kesepakatan an tea iaksanakan e neaa epuik innesia teaap peanian peanian intenasina aa untuk euukan seaaiana an iaksu aa uu a uu  an uu  atas usu inisiati ean peakian akat peu isusun unanunan tentan aanan paktek npi an pesainan usaa tiak seat eninat pasa aat pasa aat pasa aat an pasa  unanunan asa  enan pesetuuan ean peakian akat epuik innesia eutuskan enetapkan unanunan tentan aanan paktek npi an pesainan usaa tiak seat a i ketentuan uu pasa aa unanunan ini an iaksu enan npi aaa penuasaan atas puksi an atau peasaan aan an atau atas penunaan asa tetentu e satu peaku usaa atau satu kepk peaku usaa paktek npi aaa peusatan kekuatan ekni e satu atau ei peaku usaa an enakiatkan ikuasaina puksi an atau peasaan atas aan an atau asa tetentu seina eniukan pesainan usaa tiak seat an apat euikan kepentinan uu peusatan kekuatan ekni aaa penuasaan an nata atas suatu pasa esankutan e satu atau ei peaku usaa seina apat enentukan aa aan an atau asa psisi inan aaa keaaan i ana peaku usaa tiak epunai pesain an eati i pasa esankutan aa kaitan enan pansa pasa an ikuasai atau peaku usaa epunai psisi tetini i antaa pesainna i pasa esankutan aa kaitan enan keapuan keuanan keapuan akses paa paskan atau penuaan seta keapuan untuk enesuaikan paskan atau peintaan aan atau asa tetentu peaku usaa aaa setiap an peanan atau aan usaa aik an eentuk aan uku atau ukan aan uku an iiikan an ekeuukan atau eakukan keiatan aa iaa uku neaa epuik innesia aik senii aupun esaasaa eaui peanian eneenaakan eaai keiatan usaa aa ian ekni pesainan usaa tiak seat aaa pesainan anta peaku usaa aa enaankan keiatan puksi an atau peasaan aan an atau asa an iakukan enan aa tiak uu atau eaan uku atau enaat pesainan usaa peanian aaa suatu peuatan satu atau ei peaku usaa untuk enikatkan ii teaap satu atau ei peaku usaa ain enan naa apa pun aik tetuis aupun tiak tetuis peseknkan atau knspiasi usaa aaa entuk keasaa an iakukan e peaku usaa enan peaku usaa ain enan aksu untuk enuasai pasa esankutan ai kepentinan peaku usaa an eseknk pasa aaa eaa ekni i ana paa peei an penua aik seaa ansun aupun tiak ansun apat eakukan tansaksi peaanan aan an atau asa pasa esankutan aaa pasa an ekaitan enan ankauan atau aea peasaan tetentu e peaku usaa atas aan an atau asa an saa atau seenis atau sustitusi ai aan an atau asa teseut stuktu pasa aaa keaaan pasa an eeikan petunuk tentan aspekaspek an eiiki penau pentin teaap peiaku peaku usaa an kinea pasa antaa ain ua penua an peei aatan asuk an keua pasa keaaan puk siste istiusi an penuasaan pansa pasa peiaku pasa aaa tinakan an iakukan e peaku usaa aa kapasitasna seaai peask atau peei aan an atau asa untuk enapai tuuan peusaaan antaa ain penapaian aa petuuan aset taet penuaan an ete pesainan an iunakan pansa pasa aaa pesentase niai ua atau ei aan atau asa tetentu an ikuasai e peaku usaa paa pasa esankutan aa taun kaene tetentu aa pasa aaa aa an iaa aa tansaksi aan an atau asa sesuai kesepakatan antaa paa piak i pasa esankutan knsuen aaa setiap peakai an atau penuna aan an atau asa aik untuk kepentinan ii senii aupun untuk kepentinan piak ain aan aaa setiap ena aik euu aupun tiak euu aik eeak aupun tiak eeak an apat ipeaankan ipakai ipeunakan atau ianaatkan e knsuen atau peaku usaa asa aaa setiap aanan an eentuk pekeaan atau pestasi an ipeaankan aa asaakat untuk ianaatkan e knsuen atau peaku usaa kisi penaas pesainan usaa aaa kisi an ientuk untuk enaasi peaku usaa aa enaankan keiatan usaana aa tiak eakukan paktek npi an atau pesainan usaa tiak seat penaian neei aaa penaian seaaiana iaksu aa peatuan peunanunanan an eaku i tepat keuukan uku usaa peaku usaa a ii asas an tuuan pasa peaku usaa i innesia aa enaankan keiatan usaana easaskan ekasi ekni enan epeatikan keseianan antaa kepentinan peaku usaa an kepentinan uu pasa tuuan peentukan unanunan ini aaa untuk aenaa kepentinan uu an eninkatkan eisiensi ekni nasina seaa saa satu upaa untuk eninkatkan keseateaan akat euukan iki usaa an knusi eaui penatuan pesainan usaa an seat seina enain aana kepastian kesepatan eusaa an saa ai peaku usaa esa peaku usaa enena an peaku usaa kei enea paktek npi an atau pesainan usaa tiak seat an itiukan e peaku usaa an teiptana eektiitas an eisiensi aa keiatan usaa a iii peanian an iaan aian petaa ipi pasa peaku usaa iaan euat peanian enan peaku usaa ain untuk seaa esaasaa eakukan penuasaan puksi an atau peasaan aan an atau asa an apat enakiatkan teaina paktek npi an atau pesainan usaa tiak seat peaku usaa patut iua atau ianap seaa esaasaa eakukan penuasaan puksi an atau peasaan aan an atau asa seaaiana iaksu aat apaia ua atau tia peaku usaa atau kepk peaku usaa enuasai ei ai  tuu puu ia pesen pansa pasa satu enis aan atau asa tetentu aian keua penetapan aa pasa peaku usaa iaan euat peanian enan peaku usaa pesainna untuk enetapkan aa atas suatu aan an atau asa an aus iaa e knsuen atau peanan paa pasa esankutan an saa ketentuan seaaiana iaksu aai aat tiak eaku ai asuatu peanian an iuat aa suatu usaa patunan atau suatu peanian an iasakan unanunan an eaku pasa peaku usaa iaan euat peanian an enakiatkan peei an satu aus eaa enan aa an eea ai aa an aus iaa e peei ain untuk aan an atau asa an saa pasa peaku usaa iaan euat peanian enan peaku usaa pesainna untuk enetapkan aa i aa aa pasa an apat enakiatkan teaina pesainan usaa tiak seat pasa peaku usaa iaan euat peanian enan peaku usaa ain an euat pesaatan aa peneia aan an atau asa tiak akan enua atau eask keai aan an atau asa an iteiana enan aa an ei ena aipaa aa an tea ipeanikan seina apat enakiatkan teaina pesainan usaa tiak seat aian ketia peaian iaa pasa peaku usaa iaan euat peanian enan peaku usaa pesainna an etuuan untuk eai iaa peasaan atau akasi pasa teaap aan an atau asa seina apat enakiatkan teaina paktek npi an atau pesainan usaa tiak seat aian keepat peiktan pasa peaku usaa iaan euat peanian enan peaku usaa pesainna an apat enaani peaku usaa ain untuk eakukan usaa an saa aik untuk tuuan pasa aa neei aupun pasa ua neei peaku usaa iaan euat peanian enan peaku usaa pesainna untuk enak enua setiap aan an atau asa ai peaku usaa ain seina peuatan teseut aeuikan atau apat iua akan euikan peaku usaa ain atau eatasi peaku usaa ain aa enua atau eei setiap aan an atau asa ai pasa esankutan aian keia kate pasa peaku usaa iaan euat peanian enan peaku usaa pesainna an eaksu untuk epenaui aa enan enatu puksi an atau peasaan suatu aan an atau asa an apat enakiatkan teaina paktek npi an atau pesainan usaa tiak seat aian keena tust pasa peaku usaa iaan euat peanian enan peaku usaa ain untuk eakukan kea saa enan eentuk aunan peusaaan atau pesean an ei esa enan tetap enaa an epetaankan keansunan iup asinasin peusaaan atau pesean antana an etuuan untuk ennt puksi an atau peasaan atas aan an atau asa seina apat enakiatkan teaina paktek npi an atau pesainan usaa tiak seat aian ketuu ipsni pasa peaku usaa iaan euat peanian enan peaku usaa ain an etuuan untuk seaa esaasaa enuasai peeian atau peneiaan paskan aa apat enenaikan aa atas aan an atau asa aa pasa esankutan an apat enakiatkan teaina paktek npi an atau pesainan usaa tiak seat peaku usaa patut iua atau ianap seaa esaasaa enuasai peeian atau peneiaan paskan seaaiana iaksu aa aat apaia ua atau tia peaku usaa atau kepk peaku usaa enuasai ei ai tuu puu ia pesen pansa pasa satu enis aan atau asa tetentu aian keeapan inteasi etika pasa peaku usaa iaan euat peanian enan peaku usaa ain an etuuan untuk enuasai puksi seuia puk an teasuk aa ankaian puksi aan an atau asa tetentu an ana setiap ankaian puksi eupakan asi penaan atau pses anutan aik aa satu ankaian ansun aupun tiak ansun an apat enakiatkan teaina pesainan usaa tiak seat an atau euikan asaakat aian keseian peanian tetutup pasa peaku usaa iaan euat peanian enan peaku usaa ain an euat pesaatan aa piak an eneia aan an atau asa ana akan eask atau tiak eask keai aan an atau asa teseut kepaa piak tetentu an atau paa tepat tetentu peaku usaa iaan euat peanian enan peaku usaa ain an euat pesaatan aa piak an eneia aan an atau asa tetentu aus eseia eei aan an atau asa ain ai peaku usaa peask peaku usaa iaan euat peanian enenai aa atau ptnan aa tetentu atas aan an atau asa an euat pesaatan aa peaku usaa an eneia aan an atau asa ai peaku usaa peask aaus eseia eei aan an atau asa ain ai peaku usaia peask atau tiak akan eei aan an atau asa an saa atau seenis ai peiku usaa ain an enai pesain ai peaku usaa peask aian kesepuu peanian enan piak ua neei pasa peaku usaa iaan euat peanian enan piak ain i uai neei an euat ketentuan an apat enakiatkan teaina paktek npi an atau pesainan usaa tiak seat a i keiatan an iaan aian petaa npi pasa  peaku usaa iaan eakukan penuasaan atas puksi an atau peasaan aan an atau asa an apat enakiatkan teaina paktek npi an atau pesainan usaa tiak seat peaku usaa patut iua atau ianap eakukan penuasaan atas puksi an atau peasaan aan an atau asa seaaiana iaksu aa aat apaia aaan an atau asa an esankutan eu aa sustitusina atau enakiatkan peaku usaa ain tiak apat asuk ke aa pesainan usaa aan an atau asa an saa atau satu peaku usaa atau satu kepk peaku usaa enuasai ei ai ia puu pesen pansa pasa satu enis aan atau asa tetentu aian keua npsni pasa peaku usaa iaan enuasai peneiaan paskan atau enai peei tuna atas aan an atau asa aa pasa esankutan an apat enakiatkan teaina paktek npi an atau pesainan usaa tiak seat peaku usaa patut iua atau ianap enuasai peneiaan paskan atau enai peei tuna seaaiana iaksu aa aat  apaia satu peaku usaa atau satu kepk peaku usaa enuasai ei ai iia puu pesen pansa pasa satu enis aan atau asa tetentu aian ketia penuasaan pasa pasa peaku usaa iaan eakukan satu atau eeapa keiatan aik senii aupun esaa peaku usaa ain an apat enakiatkan teaina paktek npi an atau pesainan usaa tiak seat eupa aenak an atau enaani peaku usaa tetentu untuk eakukan keiatan usaa an saa paa pasa esankutan atau enaani knsuen atau peanan peaku usaa pesainna untuk tiak eakukan uunan usaa enan peaku usaa pesainna itu atau eiatasi peeaan an atau penuaan aan an atau asa paa pasa esankutan atau eakukan paktek iskiinasi teaap peaku usaa tetentu pasa peaku usaa iaan eakukan peaskan aan an atau asa enan aa eakukan ua ei atau enetapkan aa an sanat ena enan aksu untuk eninkikan atau eatikan usaa pesainna i pasa esankutan seina apat enakiatkan teaina paktek npi an atau pesainan usaa tiak seat pasa peaku usaa iaan eakukan keuanan aani enetapkan iaa puksi an iaa ainna an enai aian ai kpnen aa aan an atau asa an apat enakiatkan teaina pesainan usaa tiak seat aian keepat peseknkan pasa peaku usaa iaan eseknk enan piak ain unuk enatu an atau enentukan peenan tene seina apat enakiatkan teaina pesainan usaa tiak seat pasa peaku usaa iaan eseknk enan piak ain untuk enapatkan inasi keiatan usaa pesainna an ikasiikasikan seaai aasia peusaaan seina apat enakiatkan teaina pesainan usaa tiak seat pasa peaku usaa iaan eseknk enan piak ain untuk enaat puksi an atau peasaan aan an atau asa peaku usaa pesainna enan aksu aa aan an atau asa an itaakan atau ipask i pasa esankutan enai ekuan aik ai ua kuaitasaupun ketepatan aktu an ipesaatkan a  psisi inan aian petaa uu pasa peaku usaa iaan enunakan psisi inan aik seaa ansun aupun tiak ansun untuk aenetapkan saatsaat peaanan enan tuuan untuk enea an atau enaani knsuen epee aan an atau asa an esain aik ai sei aa aupun kuaitas atau eatasi pasa an peneanan tekni atau enaat peaku usaa ain an eptensi enai pesain untuk easuki pasa esankutan peaku usaa eiiki psisi inan seaaiana iaksu aat apaia asatu peaku usaa atau satu kepk peaku usaa enuasai  ia puu pesen atau ei pansa pasa satu enis aan atau asa tetentu atau ua atau tia peaku usaa atau kepk peaku usaa enuasai tuu puu ia pesen atau ei pansa pasa satu enis aan atau asa tetentu aian keua aatan ankap pasa sesean an enuuki aatan seaai ieksi atau kisais ai suatu peusaaan paa aktu an esaaan iaan eankap enai ieksi atau kisais paa peusaaan ain apaia peusaaanpeusaaan teseut aeaa aa pasa esankutan an saa atau eiiki ketekaitan an eat aa ian an atau enis usaa atau seaa esaa apat enuasai pansa pasa aan an atau asa tetentu an apat enakiatkan teaina paktek npi an atau pesainan usaa tiak seat aian ketia peiikan saa pasa peaku usaa iaan eiiki saa aitas paa eeapa peusaaan seenis an eakukan keiatan usaa aa ian an saa paa pasa esankutan an saa atau eniikan eeapa peusaaa an eiiki keiatan usaa an saa paa pasa esankutan an saa apaia kepeiikan teseut enakiatkan asatu peaku usaa atau satu kepk peaku usaa enuasai ei ai ia puu pesen pansa pasa satu enis aan atau asa tetentu ua atau tia peaku usaa atau kepk peaku usaa enuasai ei ai tuu puu ia pesen pansa pasa satu enis aan atau asa tetentu aian keepat penaunan peeuan an peinaiaian pasa peaku usaa iaan eakukan penaunan atau peeuan aan usaa an apat enakiatkan teaina paktek npi an atau pesainan usaa tiak seat peaku usaa iaa eakukan penaiaian saa peusaaan ain apaia tinakan teseut apat enakiatkan teaina paktek npi an atau pesainan usaa tiak seat ketentuan ei anut enenai penaunan atau peeuan aan usaa an iaan seaaiana iaksu aat an ketentuan enenai penaiaian saa peusaaan seaaiana iaksu aa aat iatu aa peatuan peeinta pasa penaunan atau peeuan aan usaa atau penaiaian saa seaaiana iaksu aa pasa an eakiat niai aset an atau niai penuaanna eeii ua tetentu ai ieitaukan kepaa kisi seaataatna tia puu ai seak tana penaunan peeuan atau penaiaian teseut ketentuan tentan penetapan niai aset an atau niai penuaan seta tata aa peeitauan seaaiana iaksu aa aat iatu aa peatuan peeinta a i kisi penaas pesainan usaa aian petaa status pasa untuk enaasi peaksanaan unanunan ini ientuk kisi penaas pesainan usaa an seanutna iseut kisi kisi aaa suatu eaa inepenen an teepas ai penaui an kekuasaan peeinta seta piak ain kisi etanun aa kepaa pesien aian keua keantaan pasa kisi teii atas sean ketua eankap anta sean aki ketua eankap anta an sekuankuanna tuu an anta anta kisi iankat an ieentikan e pesien atas pesetuuan ean peakian akat asa aatan anta kisi aaa ia taun an apat iankat keai untuk satu kai asa aatan eikutna apaia kaena eakina asa aatan akan teai keksnan aa keantaan kisi aka asa aatan anta apat ipepanan sapai penankatan anta au pasa pesaatan keantaan kisi aaa aaa neaa epuik innesia eusia sekuankuanna  tia puu taun an setinitinina ena puu taun paa saat penankatan setia kepaa panasia an unanunain asa eian an etaa kepaa tuan an aa esa uu ai an ekeakuan aik eetepat tina i iaa neaa epuik innesia epenaaan aa ian usaa atau epunai penetauan an keaian i ian uku an atau ekni tiak pena ipiana tiak pena inatakan paiit e penaian an itiak teaiiasi enan suatu aan usaa pasa keantaan kisi eenti kaena aenina unia enunukan ii atas peintaan senii etepat tina i ua iaa neaa epuik innesia sakit asani atau ani teus eneus eeakina asa aatan keantaan kisi atau ieentikan pasa peentukan kisi seta susunan anisasi tuas an unsina itetapkan enan keputusan pesien untuk keanaan peaksanaan tuas kisi iantu e seketaiat kisi apat eentuk kepk kea ketentuan enenai susunan anisasi tuas an unsi seketaiat an kepk kea iatu ei anut enan keputusan kisi aian ketia tuas pasa tuas kisi eiputi aeakukan peniaian teaap peanian an apat enakiatkan teaina pakteknpi an atau pesainan usaa tiak seat seaaiana iatu aa pasa sapai enan pasa eakukan peniaian teaap keiatan usaa an atau tinakan peaku usaa aii apat enakiatkan teaina paktek npi an atau pesainan usaa tiak seat seaaana iatu aa pasa  sapai enan pasa eakukan peniaian teaap aa atau tiak aana penaaunaan psisi inan an apat enakiatkan teaina paktek npi an atau pesainan usaa tiak seat seaaiana iatu aa pasa sapai enan pasa enai tinakan sesuai enan eenan kisi seaaiana iatu aa pasa eeeikan saan an petianan teaap keiakan peeinta an ekaitan enan paktek npi an atau pesainan usaa tiak seat enusun pean an atau puikasi an ekaitan enan unanunan ini eeikan apan seaa ekaa atas asi kea kisi kepaa pesien an ean peakian akat aian keepat eenan pasa eenan kisi eiputi aeneia apan ai asaakat an atau ai peaku usaa tentan uaan teaina paktek npi an atau pesainan usaa tiak seat eakukan peneitian tentan uaan aana keiatan usaa an atau tinakan peaku usaa an apat enakiatkan teaina paktek npi an atau pesainan usaa tiak seat eakukan peneiikan an atau peeiksaan teaap kasus uaan paktek npi an atau pesainan usaa tiak seat an iapkan e asaakat atau e peaku usaa atau an itentukan e kisi seaai asi ai peneitianna enipukan asi peneiikan an atau peeiksaan tentan aa atau tiak aana paktek npi an atau pesainan usaa tiak seat eeani peaku usaa an iua tea eakukan peanaan teaap ketentuan unanunan ini eani an enasikan saksi saksi ai an setiap an an ianap enetaui peanaan teaap ketentuan unan unan ini einta antuan peniik untuk enaikan peaku usaa saksi saksi aki atau setiap an seaaiana iaksu uu e an uu  an tiak eseia eenui panian kisi einta keteanan ai instansi peeinta aa kaitanna enan peneiikan an atau peeiksaan teaap peaku usaa an eana ketentuan unanunan ini i enapatkan eneiti an atau eniai suat kuen atau aat ukti ain una peneiikan an atau peeiksaan eutuskan aa atau tiak aana keuian i piak peaku usaa ain atau asaakat keeitaukan putusan kisi kepaa peaku usaa an iua eakukan paktek npi an atau pesainan usaa tiak seat enatukan sanksi eupa tinakan ainistati kepaa peaku usaa an eana ketentuan unanunan ini aian keia peiaaan pasa iaa untuk peaksanaani tuas kisi ieankan kepaa anaan penapatan an eana neaa an atau suesue ain an ipeekan e peatuan peunanunanan an eaku a ii tata aa penananan pekaa pasa setiap an an enetaui tea teai atau patut iua tea teai peanaan teaap unanunan ini apat eapkan seaa tetuis kepaa kisi enan keteanan an eas tentan tea teaina peanaan enan enetakan ientitas peap piak an iuikan seaai akiat teaina peanaan teaap unanunan ini apat eapkan seaa tetuis kepaa kisi enan keteanan an enkap an eas tentan tea teaina peanaan seta keuian an itiukan enan enetakan ientitas peap ientitas peap seaaiana iaksu aa aat ai iaasiakan e kisi tata aa penapaian apan seaaiana iaksu aa aat  an aat iatu ei anut e kisi pasa easakan apan seaaiana iaksu aa pasa aat  an aat kisi ai eakukan peeiksaan penauuan an aa aktu seaataatna tia puu ai setea eneia apan kisi ai enetapkan peu atau tiakna iakukan peeiksaan anutan aa peeiksaan anutan kisi ai eakukan peeiksaan teaap peaku usaa an iapkan kisi ai enaa keaasiaan inasi an ipee ai peaku usaa an ikateikan seaai aasia peusaaan apaia ipanan peu kisi apat enena keteanan saksi saksi ai an atau piak ain aa eakukan keiatan seaaiana iaksu aa aat  an aat anta kisi ienkapi enan suat tuas pasa  kisi apat eakukan peeiksaan teaap peaku usaa apaia aa uaan teai peanaan unanunan ini aaupun tanpa aana apan peeiksaan seaaiana iaksu aa aat iaksanakan sesuai enan tata aa seaaiana iatu aa pasa  pasa peaku usaa an atau piak ain an ipeiksa ai eneakan aat ukti an ipeukan aa peneiikan an atau peeiksaan peaku usaa iaan enak ipeiksa enak eeikan inasi an ipeukan aa peneiikan an atau peeiksaan atau enaat pses peneiikan an atau peeiksaan peanaan teaap ketentuan aat e kisi iseakan kepaa peniik untuk iakukan peniikan sesuai enan ketentuan an eaku pasa aataat ukti peeiksaan kisi eupa aketeanan saksi keteanan ai suat an atau kuen petunuk eketeanan peaku usaa pasa kisi ai eneesaikan peeiksaan anutan seaat aatna ena puu ai seak iakukan peeiksaan anutan seaaiana iaksu aa pasa aat iaana ipeukan anka aktu peeiksaan anutan seaaiana iaksu aa aat apat ipepanan pain aa  tia puu ai kisi ai eutuskati tea teai atau tiak teai peanaan teaap unanunan ini seaataatna tia puu ai teitun seak seesaina peeiksaan anutan seaaiana iaksu aa aat atau aat putusan kisi seaaiana iaksu aa aat aus iaakan aa suatu sian an inatakan teuka untuk uu an seea ieitaukan kepaa peaku usaa pasa aa aktu tia puu ai seak peaku usaa eneia peeitauan putusan kisi seaaiana iaksu aa pasa aat  peaku usaa ai eaksanakan putusan teseut an enapaikan apan peaksanaanna kepaa kisi peaku usaa apat enaukan keeatan kepaa penaian neei seaataatna epat eas ai setea eneia peeitauan putusan teseut peaku usaa an tiak enaukan keeatan aa anka aktu seaaiana iaksu aa aat ianap eneia putusan kisi apaia ketentuan seaaiana iksu aa aat an aat  tiak iaankan e peaku usaa kisi eneakan putusan teseut kepaa peniik untuk iakukan peniikan sesuai enan ketentuan peatuan peunanunanan an eaku putusan kisi seaaiana iaksu aa pasa aat  eupakan ukti peuaan an ukup ai peniik untuk eakukan peniikan pasa penaian neei aus eeiksa keeatan peaku usaa seaaiana iaksu aa pasa aat aa aktu epat eas ai seak iteiana keeatan teseut penaian neei aus eeikan putusan aai aktu  tia puu ai seak iuaina peeiksaan keeatan teseut piak an keeatan teaap putusan penaian neei seaaiana iaksu aa aat aa aktu epat eas ai apat enaukan kasasi kepaa akaa aun epuik innesia akaa aun aus eeikan putusan aa aktu tia puu ai seak penan kasasi iteia pasa apaia tiak teapat keeatan putusan kisi seaaiana iaksu aa pasa aat tea epunai kekuatan uku an tetap putusan kisi seaaiana iaksu aa aat iintakan penetapan eksekusi kepaa penaian neei a iii sanksi aian petaa tinakan ainistati pasa kisi eenan enatukan sanksi eupa tinakan ainistati teaap peaku usaa an eana ketentuan unan unan ini tinakan ainistati seaaiana iaksu aa aat  apat eupa apenetapan peataan peanian seaaana iaksu aa pasa sapai enan pasa pasa an pasa an atau peinta kepaa peaku usaa untuk enentikan inteasi etika seaaiana iaksu aa pasa an atau peinta kepaa peaku usaa untuk enentikan keiatan an teukti eniukan paktek npi an atau eneakan pesainan usaa tiak seat an atau euikan asaakat an atau peinta kepaa peaku usaa untuk enentikan penaaunaan psisi inan an atau epenetapan peataan atas penaunan atau peeuan aan usaa an penaiaian seaaiana iaksu aa pasa an atau penetapan peniaaan anti ui an atau penenaan ena seenaenana p satu iia upia an setinitinina p ua puu ia iia upia aian keua piana pkk pasa peanaan teaap ketentuan pasa pasa sapai enan pasa pasa sapai enan pasa pasa pasa an pasa iana piana ena seenaenana p  ua puu ia iia upia an setinitinina p  seatus iia upia atau piana kuunan penanti ena seaaaana ena uan peanaan teaap ketentuan pasa sapai enan pasa  pasa pasa sapai enan pasa an pasa unanunan ini iana piana ena seenaenana p  ia iia upia an setinitinina p ua puu ia iia upia atau piana kuunan penanti ena seaaaana ia uan peanaan teaap ketentuan pasa unanunan ini iana piana ena seenaenana p satu iia upia an setinitinina p ia iia upia atau piana kuunan penanti ena seaaaana  tia uan aian ketia piana taaan pasa enan enunuk ketentuan pasa kita unanunan uku piana teaap piana seaaiana iatu aa pasa apat iatukan piana taaan eupa apenautan iin usaa atau aanan kepaa peaku usaa an tea teukti eakukan peanaan teaap unanunan ini untuk enuuki aatan ieksi atau kisais sekuankuanna ua taun an seaa aana ia taun atau penentian keiatan atau tinakan tetentu an eneakan tiuna keuian paa piak ain a i ketentuan ain pasa an ikeuaikan ai ketentuani unanunan ini aaa apeuatan an atau peanian an etuuan eaksanakan peatuan peunanunanan an eaku atau peanian an ekaitan enan ak atas kekaaan inteektua sepeti isensi paten eek aan ak ipta esain puk inusti ankaian eektnik tepau an aasia aan seta peanian an ekaitan enan aaaa atau peanian penetapan stana teknis puk aan an atau asa an tiak enekan an atau enaani pesainan atau peanian aa anka keaenan an isina tiak euat ketentuan untuk eask keai aan an atau asa enan aa an ei ena aipaa aa an tea ipeanikan atau epeanian kea saa peneitian untuk peninkatan atau peaikan stana iup asaakat uas atau peanian intenasina an tea iatiikasi e peeinta epuik innesia atau  peanian an atau peuatan an etuuan untuk eksp an tiak enanu keutuan an atau paskan pasa aa neei atau peaku usaa an ten aa usaa kei atau ikeiatan usaa kpeasi an seaa kusus etuuan untuk eaani antana pasa npi an atau peusatan keiatan an ekaitan enan puksi an atau peasaan aan an atau asa an enuasai aat iup an anak seta aanaan puksi an pentin ai neaa iatu enan unanunan an iseenaakan e aan usaa iik neaa an atau aan atau eaa an ientuk atau itunuk e peeinta a  ketentuan peaian pasa seak eakuna unanunan ini seua peatuan peunan unanan an enatu atau ekaitan enan paktek npi an atau pesainan usaa inatakan tetap eaku sepanan tiak etentanan atau eu ianti enan an au easakan unan unan ini peaku usaa an tea euat peanian an atau eakukan keiatan an atau tinakan an tiak sesuai enan ketentuan unan unan ini iei aktu ena uan seak unanunan ini ieakukan untuk eakukan penesuaian a i ketentuan penutup pasa unanunan ini uai eaku teitun satu taun seak tana iunankan aa setiap an enetauina eeintakan penunanan unan unan ini enan penepatanna aa eaan neaa epuik innesia\\n'"
            ],
            "application/vnd.google.colaboratory.intrinsic+json": {
              "type": "string"
            }
          },
          "metadata": {},
          "execution_count": 5
        }
      ],
      "source": [
        "myfile = open('soal1.txt')\n",
        "soal1 = myfile.read()\n",
        "soal1"
      ]
    },
    {
      "cell_type": "code",
      "source": [
        "#no 1.1 Ada berapakah total kata unik yang ada pada file tersebut?\n",
        "len(soal1.split())"
      ],
      "metadata": {
        "colab": {
          "base_uri": "https://localhost:8080/"
        },
        "id": "Clypmf75Caw5",
        "outputId": "6a51bbca-ed74-4ee9-dd31-2edc3adfc27b"
      },
      "execution_count": 11,
      "outputs": [
        {
          "output_type": "execute_result",
          "data": {
            "text/plain": [
              "4444"
            ]
          },
          "metadata": {},
          "execution_count": 11
        }
      ]
    },
    {
      "cell_type": "code",
      "source": [
        "#no 1.2 Kata apakah yang kemunculannya tertinggi ke-6 pada file tersebut?\n",
        "from collections import Counter\n",
        "kamus = Counter(soal1.split()) # split untuk memisahkan kata, disini untuk mencari kata yang paling sering muncul dari kalimat\n",
        "kamus = [[kamus[_],_]for _ in kamus] # _ sebuah variabel bebas; mengubah kalimat_panjang ke bentuk dictionary list\n",
        "kamus = sorted(kamus) # mengurutkan dari kata paling sedikit muncul\n",
        "print(kamus[-6][1]) "
      ],
      "metadata": {
        "colab": {
          "base_uri": "https://localhost:8080/"
        },
        "id": "9uMkDMrWDLTI",
        "outputId": "c42b17de-d91d-4e23-ea6e-9d42498827ed"
      },
      "execution_count": 17,
      "outputs": [
        {
          "output_type": "stream",
          "name": "stdout",
          "text": [
            "aa\n"
          ]
        }
      ]
    },
    {
      "cell_type": "code",
      "source": [
        "#no 1.3 Carilah jumlah kombinasi huruf yang berakhiran huruf vokal secara regex?\n",
        "import re\n",
        "hasil = re.findall('\\w+[aiueo]', soal1) # mencari kombinasi huruf yang berakhiran huruf vokal \n",
        "print(len(hasil)) #jumlah kombinasi huruf yang berakhiran huruf vokal"
      ],
      "metadata": {
        "colab": {
          "base_uri": "https://localhost:8080/"
        },
        "id": "uL2k9Js5D4gn",
        "outputId": "9f939d29-28aa-4ca0-9a26-f587c00274aa"
      },
      "execution_count": 21,
      "outputs": [
        {
          "output_type": "stream",
          "name": "stdout",
          "text": [
            "3998\n"
          ]
        }
      ]
    },
    {
      "cell_type": "markdown",
      "source": [
        "1.4 Carilah jumlah kombinasi huruf yang diawali huruf 'p' dan diakhiri huruf 'p'."
      ],
      "metadata": {
        "id": "FObTArzTI48g"
      }
    },
    {
      "cell_type": "code",
      "source": [
        "hasil2 = re.findall('p\\w+p', soal1) # mencari kombinasi huruf yang berakhiran huruf vokal \n",
        "print(len(hasil2)) #jumlah kombinasi huruf yang berakhiran huruf vokal"
      ],
      "metadata": {
        "colab": {
          "base_uri": "https://localhost:8080/"
        },
        "id": "VKDO5JhyGUAY",
        "outputId": "91cdc20f-993c-4cc7-fcf5-b93b00502035"
      },
      "execution_count": 23,
      "outputs": [
        {
          "output_type": "stream",
          "name": "stdout",
          "text": [
            "21\n"
          ]
        }
      ]
    },
    {
      "cell_type": "code",
      "source": [],
      "metadata": {
        "id": "rr4WILKVJNfP"
      },
      "execution_count": null,
      "outputs": []
    }
  ]
}